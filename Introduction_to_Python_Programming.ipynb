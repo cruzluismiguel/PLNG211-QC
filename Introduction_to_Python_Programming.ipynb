{
  "nbformat": 4,
  "nbformat_minor": 0,
  "metadata": {
    "colab": {
      "provenance": [],
      "collapsed_sections": [],
      "authorship_tag": "ABX9TyMbXDojwDJRaHjb6HshzVop",
      "include_colab_link": true
    },
    "kernelspec": {
      "name": "python3",
      "display_name": "Python 3"
    },
    "language_info": {
      "name": "python"
    }
  },
  "cells": [
    {
      "cell_type": "markdown",
      "metadata": {
        "id": "view-in-github",
        "colab_type": "text"
      },
      "source": [
        "<a href=\"https://colab.research.google.com/github/cruzluismiguel/PLNG211-QC/blob/main/Introduction_to_Python_Programming.ipynb\" target=\"_parent\"><img src=\"https://colab.research.google.com/assets/colab-badge.svg\" alt=\"Open In Colab\"/></a>"
      ]
    },
    {
      "cell_type": "markdown",
      "source": [
        "Pythin Indentation"
      ],
      "metadata": {
        "id": "WctzPOiuqU5i"
      }
    },
    {
      "cell_type": "code",
      "source": [
        "#This is an example of Python Indentation\n",
        "\n",
        "if 5 > 2:\n",
        "  print(\"Five is greater than two\")"
      ],
      "metadata": {
        "colab": {
          "base_uri": "https://localhost:8080/"
        },
        "id": "jH68zkoQqZxD",
        "outputId": "75a71d69-db62-4862-81a6-c53bcb3b5342"
      },
      "execution_count": 3,
      "outputs": [
        {
          "output_type": "stream",
          "name": "stdout",
          "text": [
            "Five is greater than two\n"
          ]
        }
      ]
    },
    {
      "cell_type": "markdown",
      "source": [
        "Python Variable"
      ],
      "metadata": {
        "id": "JLPF9BXNswUE"
      }
    },
    {
      "cell_type": "code",
      "source": [
        "x = 1\n",
        "a, b = 0, -1\n",
        "a = 9\n",
        "c = \"Sally\"\n",
        "c = \"Danny\"\n",
        "print(a)\n",
        "print(c)\n",
        "c = \"Maria\""
      ],
      "metadata": {
        "colab": {
          "base_uri": "https://localhost:8080/"
        },
        "id": "fW7424Nnsy1V",
        "outputId": "fa992977-4a29-4d46-b756-b3ccc87dbaf0"
      },
      "execution_count": 13,
      "outputs": [
        {
          "output_type": "stream",
          "name": "stdout",
          "text": [
            "9\n",
            "Danny\n"
          ]
        }
      ]
    },
    {
      "cell_type": "markdown",
      "source": [
        "Casting"
      ],
      "metadata": {
        "id": "NMog-qr4uyr2"
      }
    },
    {
      "cell_type": "code",
      "source": [
        "d = int(4)\n",
        "print(d)\n",
        "e = float(4)\n",
        "print(e)"
      ],
      "metadata": {
        "colab": {
          "base_uri": "https://localhost:8080/"
        },
        "id": "_gLJqWQEu1Nu",
        "outputId": "f2f2f066-8745-42e1-a0eb-5896ececd844"
      },
      "execution_count": 10,
      "outputs": [
        {
          "output_type": "stream",
          "name": "stdout",
          "text": [
            "4\n",
            "4.0\n"
          ]
        }
      ]
    },
    {
      "cell_type": "markdown",
      "source": [
        "Type () function"
      ],
      "metadata": {
        "id": "zBBVbfKrvdI1"
      }
    },
    {
      "cell_type": "code",
      "source": [
        "print(type(d))\n",
        "print(type(e))"
      ],
      "metadata": {
        "colab": {
          "base_uri": "https://localhost:8080/"
        },
        "id": "WKzE6tDfvo9P",
        "outputId": "9f348da3-2806-4784-e341-7633e3731e96"
      },
      "execution_count": 12,
      "outputs": [
        {
          "output_type": "stream",
          "name": "stdout",
          "text": [
            "<class 'int'>\n",
            "<class 'float'>\n"
          ]
        }
      ]
    },
    {
      "cell_type": "markdown",
      "source": [
        "Single Quote or Double Quote"
      ],
      "metadata": {
        "id": "4Gmi5NIywkWM"
      }
    },
    {
      "cell_type": "code",
      "source": [
        "f = \"Maria\"\n",
        "print(f)\n",
        "g = 'Anna'\n",
        "print(g)"
      ],
      "metadata": {
        "colab": {
          "base_uri": "https://localhost:8080/"
        },
        "id": "__vgx5iLwo0q",
        "outputId": "1857b6b9-2dd8-4d19-b294-979c0a383c37"
      },
      "execution_count": 14,
      "outputs": [
        {
          "output_type": "stream",
          "name": "stdout",
          "text": [
            "Maria\n",
            "Anna\n"
          ]
        }
      ]
    },
    {
      "cell_type": "markdown",
      "source": [
        "Multiple Variables"
      ],
      "metadata": {
        "id": "8ebeqVE3xUB8"
      }
    },
    {
      "cell_type": "code",
      "source": [
        "x, y, z = 4, 5, 6\n",
        "print(x)\n",
        "print(y)\n",
        "print(z)"
      ],
      "metadata": {
        "colab": {
          "base_uri": "https://localhost:8080/"
        },
        "id": "mq9bojgKxV4G",
        "outputId": "ba59d337-9e44-403e-dde9-2f55aee08b5e"
      },
      "execution_count": 15,
      "outputs": [
        {
          "output_type": "stream",
          "name": "stdout",
          "text": [
            "4\n",
            "5\n",
            "6\n"
          ]
        }
      ]
    },
    {
      "cell_type": "markdown",
      "source": [
        "Single Value to Multiple Variables"
      ],
      "metadata": {
        "id": "qdyZt75gxwOa"
      }
    },
    {
      "cell_type": "code",
      "source": [
        "x = y = z = \"Lilo\"\n",
        "print(x)\n",
        "print(y)\n",
        "print(z)"
      ],
      "metadata": {
        "colab": {
          "base_uri": "https://localhost:8080/"
        },
        "id": "o1WBwt2yxy4j",
        "outputId": "e7c32108-c21b-40ae-a53f-ea938e1809e0"
      },
      "execution_count": 16,
      "outputs": [
        {
          "output_type": "stream",
          "name": "stdout",
          "text": [
            "Lilo\n"
          ]
        }
      ]
    },
    {
      "cell_type": "markdown",
      "source": [
        "Output Variable using Print and +"
      ],
      "metadata": {
        "id": "0Ya09x4xymWS"
      }
    },
    {
      "cell_type": "code",
      "source": [
        "s = \"Python is\"\n",
        "t = \"enjoying\"\n",
        "print(\"Python is\" + \" \" + t)\n",
        "print(s + ' ' + t)"
      ],
      "metadata": {
        "colab": {
          "base_uri": "https://localhost:8080/"
        },
        "id": "F5HTi_BryphS",
        "outputId": "5afe2eaf-4fdc-4518-ab71-4500eafe7dd2"
      },
      "execution_count": 20,
      "outputs": [
        {
          "output_type": "stream",
          "name": "stdout",
          "text": [
            "Python is enjoying\n",
            "Python is enjoying\n"
          ]
        }
      ]
    },
    {
      "cell_type": "markdown",
      "source": [
        "Arithmetic Operation"
      ],
      "metadata": {
        "id": "NO5M9l5gzdcy"
      }
    },
    {
      "cell_type": "code",
      "source": [
        "x = 1\n",
        "y = 2\n",
        "sum = x + y\n",
        "print(x)\n",
        "print(y)\n",
        "\n",
        "#modulo division\n",
        "l = 4 % 2\n",
        "print(l)\n",
        "print(\"4 % 2\", l)\n",
        "\n",
        "k = 3 // 2\n",
        "print(\"3 // 2 =\", k)\n"
      ],
      "metadata": {
        "colab": {
          "base_uri": "https://localhost:8080/"
        },
        "id": "j3ncRhRWzyDH",
        "outputId": "2dcd61f8-3b74-4f8d-e990-ce1a52f82091"
      },
      "execution_count": 33,
      "outputs": [
        {
          "output_type": "stream",
          "name": "stdout",
          "text": [
            "1\n",
            "2\n",
            "0\n",
            "4 % 2 0\n",
            "3 // 2 = 1\n"
          ]
        }
      ]
    },
    {
      "cell_type": "markdown",
      "source": [
        "Aasignment Operator"
      ],
      "metadata": {
        "id": "64e7_wMw2UBI"
      }
    },
    {
      "cell_type": "code",
      "source": [
        "x= 1 \n",
        "x += 1 #x = x + 1\n",
        "print(\"x += 1 = \", x)"
      ],
      "metadata": {
        "colab": {
          "base_uri": "https://localhost:8080/"
        },
        "id": "PCAtomZ-2Yj_",
        "outputId": "6338f9f0-d673-4512-9373-78ae215f9cb7"
      },
      "execution_count": 39,
      "outputs": [
        {
          "output_type": "stream",
          "name": "stdout",
          "text": [
            "x += 1 =  2\n"
          ]
        }
      ]
    },
    {
      "cell_type": "markdown",
      "source": [
        "Logical Operators"
      ],
      "metadata": {
        "id": "DKwW7_Ke3aBV"
      }
    },
    {
      "cell_type": "code",
      "source": [
        "q = 1\n",
        "r = 4\n",
        "\n",
        "q > r and r == r"
      ],
      "metadata": {
        "colab": {
          "base_uri": "https://localhost:8080/"
        },
        "id": "QFMaFPy53eoi",
        "outputId": "66c81689-bc51-43e0-cdec-4b394e3ddfa8"
      },
      "execution_count": 41,
      "outputs": [
        {
          "output_type": "execute_result",
          "data": {
            "text/plain": [
              "False"
            ]
          },
          "metadata": {},
          "execution_count": 41
        }
      ]
    }
  ]
}