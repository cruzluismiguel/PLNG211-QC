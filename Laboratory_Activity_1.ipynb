{
  "nbformat": 4,
  "nbformat_minor": 0,
  "metadata": {
    "colab": {
      "provenance": [],
      "authorship_tag": "ABX9TyPX6TGxekmMQ0pm5WL/ik1x",
      "include_colab_link": true
    },
    "kernelspec": {
      "name": "python3",
      "display_name": "Python 3"
    },
    "language_info": {
      "name": "python"
    }
  },
  "cells": [
    {
      "cell_type": "markdown",
      "metadata": {
        "id": "view-in-github",
        "colab_type": "text"
      },
      "source": [
        "<a href=\"https://colab.research.google.com/github/cruzluismiguel/PLNG211-QC/blob/main/Laboratory_Activity_1.ipynb\" target=\"_parent\"><img src=\"https://colab.research.google.com/assets/colab-badge.svg\" alt=\"Open In Colab\"/></a>"
      ]
    },
    {
      "cell_type": "markdown",
      "source": [
        "A. Methodology"
      ],
      "metadata": {
        "id": "RuQb1g-UIl3H"
      }
    },
    {
      "cell_type": "markdown",
      "source": [
        "1. Write a Python program to create an array of 10 integers and display the array items. Access individual elements through indexes and compute for the sum."
      ],
      "metadata": {
        "id": "BiN6QA_VIu9f"
      }
    },
    {
      "cell_type": "code",
      "source": [
        "numberArrays = [1, 2, 3, 4, 5, 6, 7, 8, 9, 10]\n",
        "sum = 0\n",
        "print(\"An array of 10 integers:\")\n",
        "for x in numberArrays:\n",
        "  print(x)\n",
        "\n",
        "sum = numberArrays[0] + numberArrays[1] + numberArrays[2] + numberArrays[3] + numberArrays[4] + numberArrays[5] + numberArrays[6] + numberArrays[7] + numberArrays[8] + numberArrays[9] \n",
        "\n",
        "print(\"The sum of 10 integers are: \" + str(sum))\n"
      ],
      "metadata": {
        "colab": {
          "base_uri": "https://localhost:8080/"
        },
        "id": "s1uY3xEiIwsU",
        "outputId": "e48fbacd-320d-4a46-d37d-41278e30d07a"
      },
      "execution_count": null,
      "outputs": [
        {
          "output_type": "stream",
          "name": "stdout",
          "text": [
            "An array of 10 integers:\n",
            "1\n",
            "2\n",
            "3\n",
            "4\n",
            "5\n",
            "6\n",
            "7\n",
            "8\n",
            "9\n",
            "10\n",
            "The sum of 10 integers are: 55\n"
          ]
        }
      ]
    },
    {
      "cell_type": "markdown",
      "source": [
        "2.\tWrite a Python program to append a new item to the end of the array. Original array: numbers = [1, 2, 3, 4, 5, 6, 7, 8, 9, 10]"
      ],
      "metadata": {
        "id": "fRKeEc_tP5yR"
      }
    },
    {
      "cell_type": "code",
      "source": [
        "numberArrays = [1, 2, 3, 4 , 5, 6, 7, 8, 9, 10]\n",
        "print(\"Original array numbers:\")\n",
        "for x in numberArrays:\n",
        "  print(x)\n",
        "\n",
        "numberArrays.append(11)\n",
        "\n",
        "print(\"New array numbers:\")\n",
        "for x in numberArrays:\n",
        "  print(x)"
      ],
      "metadata": {
        "colab": {
          "base_uri": "https://localhost:8080/"
        },
        "id": "jJM8BkOTP8aC",
        "outputId": "ac6f0206-e542-4fe7-8f28-73980197a562"
      },
      "execution_count": null,
      "outputs": [
        {
          "output_type": "stream",
          "name": "stdout",
          "text": [
            "Original array numbers:\n",
            "1\n",
            "2\n",
            "3\n",
            "4\n",
            "5\n",
            "6\n",
            "7\n",
            "8\n",
            "9\n",
            "10\n",
            "New array numbers:\n",
            "1\n",
            "2\n",
            "3\n",
            "4\n",
            "5\n",
            "6\n",
            "7\n",
            "8\n",
            "9\n",
            "10\n",
            "11\n"
          ]
        }
      ]
    },
    {
      "cell_type": "markdown",
      "source": [
        "3.\tWrite a Python program to insert a new item before the second element in an existing array. Original array: numbers = [1, 2, 3, 4, 5, 6, 7, 8, 9, 10]"
      ],
      "metadata": {
        "id": "mo5k7vZSQCeH"
      }
    },
    {
      "cell_type": "code",
      "source": [
        "numberArrays = [1, 2, 3, 4 , 5, 6, 7, 8, 9, 10]\n",
        "print(\"Original array numbers:\")\n",
        "for x in numberArrays:\n",
        "  print(x)\n",
        "\n",
        "numberArrays.insert(1, 11)\n",
        "\n",
        "print(\"New array numbers:\")\n",
        "for x in numberArrays:\n",
        "  print(x)"
      ],
      "metadata": {
        "colab": {
          "base_uri": "https://localhost:8080/"
        },
        "id": "sQP0HrVWQDDA",
        "outputId": "5a5a74eb-5524-4dc5-db4f-a0c13cdec709"
      },
      "execution_count": null,
      "outputs": [
        {
          "output_type": "stream",
          "name": "stdout",
          "text": [
            "Original array numbers:\n",
            "1\n",
            "2\n",
            "3\n",
            "4\n",
            "5\n",
            "6\n",
            "7\n",
            "8\n",
            "9\n",
            "10\n",
            "New array numbers:\n",
            "1\n",
            "11\n",
            "2\n",
            "3\n",
            "4\n",
            "5\n",
            "6\n",
            "7\n",
            "8\n",
            "9\n",
            "10\n"
          ]
        }
      ]
    },
    {
      "cell_type": "markdown",
      "source": [
        "4.\tWrite a Python program to reverse the order of the items in the array. Original array: numbers = [5, 4, 3, 2, 1]"
      ],
      "metadata": {
        "id": "aFtA_xwSQDWb"
      }
    },
    {
      "cell_type": "code",
      "source": [
        "numberArrays = [5, 4, 3, 2, 1]\n",
        "print(\"Original array numbers:\")\n",
        "for x in numberArrays:\n",
        "  print(x)\n",
        "\n",
        "numberArrays.reverse()\n",
        "print(\"Reversed array numbers:\")\n",
        "for x in numberArrays:\n",
        "  print(x)"
      ],
      "metadata": {
        "colab": {
          "base_uri": "https://localhost:8080/"
        },
        "id": "YzVh3QFqQE8p",
        "outputId": "f7a1f154-2216-41c5-96fa-4105c02a8eeb"
      },
      "execution_count": null,
      "outputs": [
        {
          "output_type": "stream",
          "name": "stdout",
          "text": [
            "Original array numbers:\n",
            "5\n",
            "4\n",
            "3\n",
            "2\n",
            "1\n",
            "Reversed array numbers:\n",
            "1\n",
            "2\n",
            "3\n",
            "4\n",
            "5\n"
          ]
        }
      ]
    },
    {
      "cell_type": "markdown",
      "source": [
        "5.\tWrite a Python program to get the length of the array. Original array: numbers = [5, 4, 3, 2, 1]"
      ],
      "metadata": {
        "id": "OaUbjpohQFUT"
      }
    },
    {
      "cell_type": "code",
      "source": [
        "numberArrays = [5, 4, 3 , 2, 1]\n",
        "print(len(numberArrays))"
      ],
      "metadata": {
        "colab": {
          "base_uri": "https://localhost:8080/"
        },
        "id": "6KHQqQ70QIJ4",
        "outputId": "c2073aae-8a34-460f-a7ee-f50b65d04e97"
      },
      "execution_count": null,
      "outputs": [
        {
          "output_type": "stream",
          "name": "stdout",
          "text": [
            "5\n"
          ]
        }
      ]
    }
  ]
}