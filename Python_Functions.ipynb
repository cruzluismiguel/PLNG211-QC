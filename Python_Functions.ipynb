{
  "nbformat": 4,
  "nbformat_minor": 0,
  "metadata": {
    "colab": {
      "provenance": [],
      "authorship_tag": "ABX9TyPGH51H/h4+LXtEkHyTgwGa",
      "include_colab_link": true
    },
    "kernelspec": {
      "name": "python3",
      "display_name": "Python 3"
    },
    "language_info": {
      "name": "python"
    }
  },
  "cells": [
    {
      "cell_type": "markdown",
      "metadata": {
        "id": "view-in-github",
        "colab_type": "text"
      },
      "source": [
        "<a href=\"https://colab.research.google.com/github/cruzluismiguel/PLNG211-QC/blob/main/Python_Functions.ipynb\" target=\"_parent\"><img src=\"https://colab.research.google.com/assets/colab-badge.svg\" alt=\"Open In Colab\"/></a>"
      ]
    },
    {
      "cell_type": "code",
      "execution_count": null,
      "metadata": {
        "colab": {
          "base_uri": "https://localhost:8080/"
        },
        "id": "gVOPVAJuLjuY",
        "outputId": "768ef2f4-e753-465d-cd1f-9190a096cb22"
      },
      "outputs": [
        {
          "output_type": "stream",
          "name": "stdout",
          "text": [
            "100\n",
            "Celcius 37.78\n",
            "Kelvin 310.93\n"
          ]
        }
      ],
      "source": [
        "#Writing your own function/conversion\n",
        "def convert_to_celsius (fahrenheit):\n",
        "  return (fahrenheit - 32) * 5/9\n",
        "\n",
        "def convert_to_kelvin (fahrenheit):\n",
        "  return ((fahrenheit - 32) * 5/9) + 273.15\n",
        "\n",
        "fahrenheit = int(input())\n",
        "\n",
        "print(\"Celcius\", round(convert_to_celsius(fahrenheit),2))\n",
        "print(\"Kelvin\", round(convert_to_kelvin(fahrenheit),2))\n"
      ]
    },
    {
      "cell_type": "code",
      "source": [
        "def Name():\n",
        "  pass"
      ],
      "metadata": {
        "id": "KzdnoUtuRbky"
      },
      "execution_count": null,
      "outputs": []
    },
    {
      "cell_type": "code",
      "source": [
        "def my_function(fname):\n",
        "  return(fname + \"Cruz\")\n",
        "\n",
        "print(my_function(\"Luis\"))\n",
        "print(my_function(\"Miguel\"))\n",
        "print(my_function(\"Cruz\"))"
      ],
      "metadata": {
        "colab": {
          "base_uri": "https://localhost:8080/"
        },
        "id": "WKs5drwSQzpN",
        "outputId": "784b06cd-c780-4401-82b6-b0b14893b551"
      },
      "execution_count": null,
      "outputs": [
        {
          "output_type": "stream",
          "name": "stdout",
          "text": [
            "LuisCruz\n",
            "MiguelCruz\n",
            "CruzCruz\n"
          ]
        }
      ]
    },
    {
      "cell_type": "code",
      "source": [
        "#Returns a value\n",
        "\n",
        "def my_function(x):\n",
        "  return(5 + x)\n",
        "\n",
        "print(my_function(4))\n",
        "print(my_function(5))\n",
        "print(my_function(6))\n"
      ],
      "metadata": {
        "colab": {
          "base_uri": "https://localhost:8080/"
        },
        "id": "nKuP37euSZCt",
        "outputId": "e0e345e1-884b-4c8b-d298-22a768e3eabf"
      },
      "execution_count": null,
      "outputs": [
        {
          "output_type": "stream",
          "name": "stdout",
          "text": [
            "9\n",
            "10\n",
            "11\n"
          ]
        }
      ]
    },
    {
      "cell_type": "code",
      "source": [
        "#Exercise 1\n",
        "\n",
        "print(min(2, 3, 4))\n",
        "print(max(2, -3, 4, 7, -5))\n",
        "print(max(2, -3, min(4, 7), -5))"
      ],
      "metadata": {
        "colab": {
          "base_uri": "https://localhost:8080/"
        },
        "id": "-daOfcyPTdaT",
        "outputId": "b8310284-135c-4847-9b4d-616a9580812e"
      },
      "execution_count": 30,
      "outputs": [
        {
          "output_type": "stream",
          "name": "stdout",
          "text": [
            "2\n",
            "7\n",
            "4\n"
          ]
        }
      ]
    },
    {
      "cell_type": "code",
      "source": [
        "#Exercise 2\n",
        "\n",
        "def sum(number1, number2, number3):\n",
        "  return (number1 + number2 + number3)\n",
        "\n",
        "def average(number1, number2, number3):\n",
        "  return ((number1 + number2 + number3) / 3)\n",
        "\n",
        "def sumSquare(number1, number2, number3):\n",
        "  return(pow(number1, 2) + pow(number2, 2) + pow(number3, 2))\n",
        "\n",
        "number1 =int(input(\"Input number 1: \"))\n",
        "number2 =int(input(\"Input number 2: \"))\n",
        "number3 =int(input(\"Input number 3: \"))\n",
        "\n",
        "print(\"The sum of three numbers are: \", sum(number1, number2, number3))\n",
        "\n",
        "print(\"The average of three numbers are: \", round(average(number1, number2, number3)))\n",
        "\n",
        "print(\"The sum of square of three integers are: \", sumSquare(number1, number2, number3))"
      ],
      "metadata": {
        "colab": {
          "base_uri": "https://localhost:8080/"
        },
        "id": "r3okqrzaTf5Y",
        "outputId": "0325dac6-152a-4ef4-979a-855fe83c6b58"
      },
      "execution_count": 31,
      "outputs": [
        {
          "output_type": "stream",
          "name": "stdout",
          "text": [
            "Input number 1: 10\n",
            "Input number 2: 20\n",
            "Input number 3: 30\n",
            "The sum of three numbers are:  60\n",
            "The average of three numbers are:  20\n",
            "The sum of square of three integers are:  1400\n"
          ]
        }
      ]
    }
  ]
}