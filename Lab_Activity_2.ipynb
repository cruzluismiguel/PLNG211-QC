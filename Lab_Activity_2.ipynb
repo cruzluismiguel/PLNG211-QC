{
  "nbformat": 4,
  "nbformat_minor": 0,
  "metadata": {
    "colab": {
      "provenance": [],
      "authorship_tag": "ABX9TyPbW2rwh/YHAeKBma3XgbFa",
      "include_colab_link": true
    },
    "kernelspec": {
      "name": "python3",
      "display_name": "Python 3"
    },
    "language_info": {
      "name": "python"
    }
  },
  "cells": [
    {
      "cell_type": "markdown",
      "metadata": {
        "id": "view-in-github",
        "colab_type": "text"
      },
      "source": [
        "<a href=\"https://colab.research.google.com/github/cruzluismiguel/PLNG211-QC/blob/main/Lab_Activity_2.ipynb\" target=\"_parent\"><img src=\"https://colab.research.google.com/assets/colab-badge.svg\" alt=\"Open In Colab\"/></a>"
      ]
    },
    {
      "cell_type": "markdown",
      "source": [
        "1.\tWrite a Python to display your full name, student number, age, and course"
      ],
      "metadata": {
        "id": "Dreu99t_ZUOs"
      }
    },
    {
      "cell_type": "code",
      "source": [
        "print(\"Name: Luis Miguel Cruz\")\n",
        "print(\"Student number: 10006218\")\n",
        "print(\"Age: 19\")\n",
        "print(\"Course: Bachelor of Science in Computer Science\")"
      ],
      "metadata": {
        "colab": {
          "base_uri": "https://localhost:8080/"
        },
        "id": "TqylNET8ZY0a",
        "outputId": "3be32872-916d-4b4d-eac8-f9b9571d4b0a"
      },
      "execution_count": null,
      "outputs": [
        {
          "output_type": "stream",
          "name": "stdout",
          "text": [
            "Name: Luis Miguel Cruz\n",
            "Student number: 10006218\n",
            "Age: 19\n",
            "Course: Bachelor of Science in Computer Science\n"
          ]
        }
      ]
    },
    {
      "cell_type": "markdown",
      "source": [
        "2.\tCreate a class named Student with attributes: Name, Student_No, Age, School, and Course"
      ],
      "metadata": {
        "id": "jodrr8xMZ0P5"
      }
    },
    {
      "cell_type": "code",
      "source": [
        "class Student:\n",
        "  def __init__(self, name, studentNo, age, school, course):\n",
        "    self.name = name\n",
        "    self.studentNo = studentNo\n",
        "    self.age = age\n",
        "    self.school = school\n",
        "    self.course = course\n",
        "\n",
        "  def info(self):\n",
        "    print(self.name)\n",
        "    print(self.studentNo)\n",
        "    print(self.age)\n",
        "    print(self.school)\n",
        "    print(self.course)"
      ],
      "metadata": {
        "id": "pwykyzJdZ6XZ"
      },
      "execution_count": null,
      "outputs": []
    },
    {
      "cell_type": "markdown",
      "source": [
        "3.\tCreate an object name Myself and assign an instance for each attribute."
      ],
      "metadata": {
        "id": "fPZLjl-YbxLH"
      }
    },
    {
      "cell_type": "code",
      "source": [
        "Myself = Student(\"Luis Miguel Cruz\", 10006218, 19, \"Our Lady of Fatima University\", \"Bachelor of Science in Computer Science\")"
      ],
      "metadata": {
        "id": "ct52IYpnb0FU"
      },
      "execution_count": null,
      "outputs": []
    },
    {
      "cell_type": "markdown",
      "source": [
        "4.\tCreate a method Info() using an instantiation of a class."
      ],
      "metadata": {
        "id": "yjPOQqTAsE0O"
      }
    },
    {
      "cell_type": "code",
      "source": [
        "Myself.info()"
      ],
      "metadata": {
        "colab": {
          "base_uri": "https://localhost:8080/"
        },
        "id": "fsmKAXN64qpN",
        "outputId": "9551dbaf-c5d4-4270-8d72-c160d825fea7"
      },
      "execution_count": null,
      "outputs": [
        {
          "output_type": "stream",
          "name": "stdout",
          "text": [
            "Luis Miguel Cruz\n",
            "10006218\n",
            "19\n",
            "Our Lady of Fatima University\n",
            "Bachelor of Science in Computer Science\n"
          ]
        }
      ]
    }
  ]
}