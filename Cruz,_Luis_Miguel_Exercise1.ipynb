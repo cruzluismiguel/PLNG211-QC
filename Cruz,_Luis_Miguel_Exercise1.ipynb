{
  "nbformat": 4,
  "nbformat_minor": 0,
  "metadata": {
    "colab": {
      "provenance": [],
      "authorship_tag": "ABX9TyMB6GYIZLy3sOidRhlr0n2z",
      "include_colab_link": true
    },
    "kernelspec": {
      "name": "python3",
      "display_name": "Python 3"
    },
    "language_info": {
      "name": "python"
    }
  },
  "cells": [
    {
      "cell_type": "markdown",
      "metadata": {
        "id": "view-in-github",
        "colab_type": "text"
      },
      "source": [
        "<a href=\"https://colab.research.google.com/github/cruzluismiguel/PLNG211-QC/blob/main/Cruz%2C_Luis_Miguel_Exercise1.ipynb\" target=\"_parent\"><img src=\"https://colab.research.google.com/assets/colab-badge.svg\" alt=\"Open In Colab\"/></a>"
      ]
    },
    {
      "cell_type": "code",
      "execution_count": 4,
      "metadata": {
        "id": "uoWB5EYDRDYc",
        "colab": {
          "base_uri": "https://localhost:8080/"
        },
        "outputId": "945aa41c-6273-4113-d7d1-8c385d14a6a4"
      },
      "outputs": [
        {
          "output_type": "stream",
          "name": "stdout",
          "text": [
            "The sum of even numbers in the given array: 186\n"
          ]
        }
      ],
      "source": [
        "#Cruz, Luis Miguel DR.\n",
        "numbers = [26, 49, 98, 87, 62, 75]\n",
        "sumEven = 0\n",
        "\n",
        "for x in numbers:\n",
        "    if x % 2 == 0:\n",
        "        sumEven += x\n",
        "print(\"The sum of even numbers in the given array:\", sumEven)"
      ]
    }
  ]
}